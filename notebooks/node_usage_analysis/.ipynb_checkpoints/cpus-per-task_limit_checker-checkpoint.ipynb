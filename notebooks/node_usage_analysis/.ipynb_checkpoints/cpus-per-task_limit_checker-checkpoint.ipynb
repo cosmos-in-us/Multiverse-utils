{
 "cells": [
  {
   "cell_type": "markdown",
   "id": "5f8313f5",
   "metadata": {},
   "source": [
    "# System Resources\n",
    "\n",
    "| **Item**               | **Grammar**              | **Olaf**                    |\n",
    "|------------------------|--------------------------|-----------------------------|\n",
    "| **Number of Nodes**    | 112                      | 100                         |\n",
    "| **Cores per Node**     | 64                       | 72                          |\n",
    "| **Threads per Core**   | 1                        | 2 (Hyper-threading enabled) |\n",
    "| **Memory per Node**    | 512 GB                   | 256 GB                      |\n",
    "| **Total Cores**        | 7,168                    | 7,200                       |\n",
    "| **Total Threads**      | 7,168                    | 14,400                      |\n",
    "| **Total Memory**       | 57,344 GB                | 25,600 GB                   |\n",
    " "
   ]
  },
  {
   "cell_type": "markdown",
   "id": "c832dd2d",
   "metadata": {},
   "source": [
    "# Configuration on the Olaf server\n",
    "\n",
    "| **Item**              | **Configuration**          |\n",
    "|-----------------------|----------------------------|\n",
    "| **Supercomputer**     | Olaf                      |\n",
    "| **Nodes Used**        | 30                        |\n",
    "| **Total MPI Ranks**   | 600                       |\n",
    "| **MPI Ranks per Node**| 20                        |\n",
    "| **CPUs per Task**     | 2 threads (logical cores) |\n",
    "| **CPUs per Node**     | 40 threads                |\n",
    "| **Total CPUs Used**   | 1,200 threads             |"
   ]
  },
  {
   "cell_type": "markdown",
   "id": "3ae915ff",
   "metadata": {},
   "source": [
    "# Configuration on the Grammar server to Restart the simulation\n",
    "\n",
    "The relationship between the number of cores per node, MPI ranks per node, and `cpus-per-task` is defined by the following equation:\n",
    "\n",
    "$$\n",
    "\\text{Cores per Node} = \\text{MPI Ranks per Node} \\times \\text{cpus-per-task}\n",
    "$$\n",
    "\n",
    "When restarting the simulation, **we can NOT change the MPI rank (= 600)**, and `Cores per Node` must not exceed the Grammar server's limit of 64 cores per node. To ensure proper configuration:\n",
    "\n",
    "$$\n",
    "64 \\geq \\text{Cores per Node} = \\frac{600}{\\text{Nodes Used}} \\times \\text{cpus-per-task}\n",
    "$$"
   ]
  },
  {
   "cell_type": "code",
   "execution_count": 1,
   "id": "2f496ea7",
   "metadata": {
    "ExecuteTime": {
     "end_time": "2024-12-13T08:33:31.236535Z",
     "start_time": "2024-12-13T08:33:31.231548Z"
    }
   },
   "outputs": [],
   "source": [
    "class Supercomputer:\n",
    "    def __init__(self, name, nodes_tot, cores_per_node, threads_per_core, memory_per_node):\n",
    "        self.name = name\n",
    "        self.nodes_tot = nodes_tot                # Total nodes in the system\n",
    "        self.cores_per_node = cores_per_node      # Physical cores per node\n",
    "        self.threads_per_core = threads_per_core  # Threads per physical core\n",
    "        self.memory_per_node = memory_per_node    # Memory per node (in GB)\n",
    "\n",
    "    def calculate_logical_cores_per_node(self):\n",
    "        \"\"\"Calculate logical cores per node.\"\"\"\n",
    "        return self.cores_per_node * self.threads_per_core\n",
    "\n",
    "    def calculate_total_logical_cores(self):\n",
    "        \"\"\"Calculate total logical cores for the system.\"\"\"\n",
    "        return self.calculate_logical_cores_per_node() * self.nodes_tot\n",
    "    \n",
    "    def calculte_total_memories(self):\n",
    "        \"\"\"Calculate total memories for the system.\"\"\"\n",
    "        return self.memory_per_node * self.nodes_tot\n",
    "\n",
    "    def display_info(self):\n",
    "        \"\"\"Display the system's static configuration.\"\"\"\n",
    "        logical_cores_per_node = self.calculate_logical_cores_per_node()\n",
    "        total_logical_cores = self.calculate_total_logical_cores()\n",
    "        total_memory = self.calculte_total_memories()\n",
    "        \n",
    "        print(f\"========{self.name}========\")\n",
    "        print(f\"Number of Nodes: {self.nodes_tot}\")\n",
    "        print(f\"Physical Cores per Node: {self.cores_per_node}\")\n",
    "        print(f\"Threads per Core: {self.threads_per_core}\")\n",
    "        print(f\"Logical Cores per Node: {logical_cores_per_node}\")\n",
    "        print(f\"Total Logical Cores: {total_logical_cores}\")\n",
    "        print(f\"Total Memory: {total_memory} GB\")\n",
    "        print()\n",
    "    \n",
    "    def calculate_cpus_per_task_limit(self, mpi_ranks_tot, nodes_used):\n",
    "        \"\"\"Calculate the upper limit for CPUs per task based on nodes used.\"\"\"\n",
    "        logical_cores_per_node = self.calculate_logical_cores_per_node()\n",
    "        return logical_cores_per_node * nodes_used / mpi_ranks_tot\n",
    "    "
   ]
  },
  {
   "cell_type": "code",
   "execution_count": 2,
   "id": "9106fdad",
   "metadata": {
    "ExecuteTime": {
     "end_time": "2024-12-13T08:33:32.374708Z",
     "start_time": "2024-12-13T08:33:32.372641Z"
    }
   },
   "outputs": [],
   "source": [
    "# Create instances for Grammar and Olaf\n",
    "grammar = Supercomputer(\n",
    "    name=\"Grammar\",\n",
    "    nodes_tot=112,\n",
    "    cores_per_node=64,\n",
    "    threads_per_core=1,\n",
    "    memory_per_node=512\n",
    ")\n",
    "\n",
    "olaf = Supercomputer(\n",
    "    name=\"Olaf\",\n",
    "    nodes_tot=100,\n",
    "    cores_per_node=72,\n",
    "    threads_per_core=2,\n",
    "    memory_per_node=256\n",
    ")\n",
    "\n",
    "# for Olaf,\n",
    "# nodes_tot=210 for the total system\n",
    "# nodes_tot=100 for the 'large_cpu' particle"
   ]
  },
  {
   "cell_type": "code",
   "execution_count": 3,
   "id": "416ed5eb",
   "metadata": {
    "ExecuteTime": {
     "end_time": "2024-12-13T08:33:33.432068Z",
     "start_time": "2024-12-13T08:33:33.429229Z"
    }
   },
   "outputs": [
    {
     "name": "stdout",
     "output_type": "stream",
     "text": [
      "========Grammar========\n",
      "Number of Nodes: 112\n",
      "Physical Cores per Node: 64\n",
      "Threads per Core: 1\n",
      "Logical Cores per Node: 64\n",
      "Total Logical Cores: 7168\n",
      "Total Memory: 57344 GB\n",
      "\n",
      "========Olaf========\n",
      "Number of Nodes: 100\n",
      "Physical Cores per Node: 72\n",
      "Threads per Core: 2\n",
      "Logical Cores per Node: 144\n",
      "Total Logical Cores: 14400\n",
      "Total Memory: 25600 GB\n",
      "\n"
     ]
    }
   ],
   "source": [
    "# Display system information\n",
    "grammar.display_info()\n",
    "olaf.display_info()"
   ]
  },
  {
   "cell_type": "code",
   "execution_count": 4,
   "id": "40b2aacf",
   "metadata": {
    "ExecuteTime": {
     "end_time": "2024-12-13T08:33:34.521788Z",
     "start_time": "2024-12-13T08:33:34.518254Z"
    }
   },
   "outputs": [
    {
     "name": "stdout",
     "output_type": "stream",
     "text": [
      "====Upper limit of 'cpus-per-task'====\n",
      "By using 30 nodes\n",
      "  cpus-per-task <= 3.20 [Grammar]\n",
      "  cpus-per-task <= 7.20 [Olaf]\n",
      "\n",
      "By using 40 nodes\n",
      "  cpus-per-task <= 4.27 [Grammar]\n",
      "  cpus-per-task <= 9.60 [Olaf]\n",
      "\n",
      "By using 50 nodes\n",
      "  cpus-per-task <= 5.33 [Grammar]\n",
      "  cpus-per-task <= 12.00 [Olaf]\n",
      "\n"
     ]
    }
   ],
   "source": [
    "# Calculate CPUs per Task Upper Limit for different nodes_used values\n",
    "mpi_ranks_tot = 600  # Total MPI ranks\n",
    "nodes_used_options = [30, 40, 50]  # Example nodes used values\n",
    "\n",
    "print(\"====Upper limit of 'cpus-per-task'====\")\n",
    "for nodes_used in nodes_used_options:\n",
    "    grammar_limit = grammar.calculate_cpus_per_task_limit(mpi_ranks_tot, nodes_used)\n",
    "    olaf_limit = olaf.calculate_cpus_per_task_limit(mpi_ranks_tot, nodes_used)\n",
    "    print(f\"By using {nodes_used} nodes\")\n",
    "    print(f\"  cpus-per-task <= {grammar_limit:.2f} [Grammar]\")\n",
    "    print(f\"  cpus-per-task <= {olaf_limit:.2f} [Olaf]\")\n",
    "    print()"
   ]
  },
  {
   "cell_type": "code",
   "execution_count": null,
   "id": "caf4fb9b",
   "metadata": {},
   "outputs": [],
   "source": []
  }
 ],
 "metadata": {
  "kernelspec": {
   "display_name": "Python 3 (ipykernel)",
   "language": "python",
   "name": "python3"
  },
  "language_info": {
   "codemirror_mode": {
    "name": "ipython",
    "version": 3
   },
   "file_extension": ".py",
   "mimetype": "text/x-python",
   "name": "python",
   "nbconvert_exporter": "python",
   "pygments_lexer": "ipython3",
   "version": "3.8.8"
  },
  "varInspector": {
   "cols": {
    "lenName": 16,
    "lenType": 16,
    "lenVar": 40
   },
   "kernels_config": {
    "python": {
     "delete_cmd_postfix": "",
     "delete_cmd_prefix": "del ",
     "library": "var_list.py",
     "varRefreshCmd": "print(var_dic_list())"
    },
    "r": {
     "delete_cmd_postfix": ") ",
     "delete_cmd_prefix": "rm(",
     "library": "var_list.r",
     "varRefreshCmd": "cat(var_dic_list()) "
    }
   },
   "types_to_exclude": [
    "module",
    "function",
    "builtin_function_or_method",
    "instance",
    "_Feature"
   ],
   "window_display": false
  }
 },
 "nbformat": 4,
 "nbformat_minor": 5
}
