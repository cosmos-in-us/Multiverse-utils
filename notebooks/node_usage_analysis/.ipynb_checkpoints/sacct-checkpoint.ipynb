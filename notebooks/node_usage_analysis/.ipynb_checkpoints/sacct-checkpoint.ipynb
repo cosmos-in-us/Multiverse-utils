{
 "cells": [
  {
   "cell_type": "markdown",
   "id": "b057e52a",
   "metadata": {},
   "source": [
    "# Node usage analysis with `sacct` output\n",
    "\n",
    "This notebook analyzes the node usage from the Slurm `sacct` output.  \n",
    "The analysis includes:\n",
    "- Parsing the `AllocTRES` field to extract CPU, memory, and node information.\n",
    "- Calculating total node hours used and remaining.\n",
    "- Estimating running days for a given number of nodes.\n",
    "- Estimating the required nodes for specific remaining days."
   ]
  },
  {
   "cell_type": "code",
   "execution_count": 1,
   "id": "c442929f",
   "metadata": {
    "ExecuteTime": {
     "end_time": "2024-12-02T05:32:17.982409Z",
     "start_time": "2024-12-02T05:32:17.723038Z"
    }
   },
   "outputs": [],
   "source": [
    "import numpy as np\n",
    "import pandas as pd"
   ]
  },
  {
   "cell_type": "markdown",
   "id": "8b74e862",
   "metadata": {},
   "source": [
    "## Load the `sacct` result\n",
    "\n",
    "The `sacct` command outputs job information. Below is the command used to generate the file:\n",
    "\n",
    "```shell\n",
    "sacct -S 2024-10-01 -E 2024-12-01 --format=\"JOBID,JobName,Partition,State,AllocTres,ElapsedRaw -p -T\" > sacct.txt\n",
    "```"
   ]
  },
  {
   "cell_type": "code",
   "execution_count": 2,
   "id": "c81dfe6e",
   "metadata": {
    "ExecuteTime": {
     "end_time": "2024-12-02T05:32:19.951096Z",
     "start_time": "2024-12-02T05:32:19.932738Z"
    }
   },
   "outputs": [],
   "source": [
    "# Load the `sacct` result\n",
    "info = pd.read_csv(\"./sacct.txt\", delimiter=\"|\", skiprows=1)"
   ]
  },
  {
   "cell_type": "code",
   "execution_count": 3,
   "id": "f973352f",
   "metadata": {
    "ExecuteTime": {
     "end_time": "2024-12-02T05:32:20.261063Z",
     "start_time": "2024-12-02T05:32:20.250572Z"
    }
   },
   "outputs": [
    {
     "data": {
      "text/html": [
       "<div>\n",
       "<style scoped>\n",
       "    .dataframe tbody tr th:only-of-type {\n",
       "        vertical-align: middle;\n",
       "    }\n",
       "\n",
       "    .dataframe tbody tr th {\n",
       "        vertical-align: top;\n",
       "    }\n",
       "\n",
       "    .dataframe thead th {\n",
       "        text-align: right;\n",
       "    }\n",
       "</style>\n",
       "<table border=\"1\" class=\"dataframe\">\n",
       "  <thead>\n",
       "    <tr style=\"text-align: right;\">\n",
       "      <th></th>\n",
       "      <th>JobID</th>\n",
       "      <th>JobName</th>\n",
       "      <th>Partition</th>\n",
       "      <th>State</th>\n",
       "      <th>AllocTRES</th>\n",
       "      <th>ElapsedRaw</th>\n",
       "      <th>Unnamed: 6</th>\n",
       "    </tr>\n",
       "  </thead>\n",
       "  <tbody>\n",
       "    <tr>\n",
       "      <th>0</th>\n",
       "      <td>14775436</td>\n",
       "      <td>check_cores</td>\n",
       "      <td>normal</td>\n",
       "      <td>COMPLETED</td>\n",
       "      <td>cpu=2,mem=14200M,node=1</td>\n",
       "      <td>2</td>\n",
       "      <td>NaN</td>\n",
       "    </tr>\n",
       "    <tr>\n",
       "      <th>1</th>\n",
       "      <td>14775436.batch</td>\n",
       "      <td>batch</td>\n",
       "      <td>NaN</td>\n",
       "      <td>COMPLETED</td>\n",
       "      <td>cpu=2,mem=14200M,node=1</td>\n",
       "      <td>2</td>\n",
       "      <td>NaN</td>\n",
       "    </tr>\n",
       "    <tr>\n",
       "      <th>2</th>\n",
       "      <td>14775436.extern</td>\n",
       "      <td>extern</td>\n",
       "      <td>NaN</td>\n",
       "      <td>COMPLETED</td>\n",
       "      <td>cpu=2,mem=14200M,node=1</td>\n",
       "      <td>2</td>\n",
       "      <td>NaN</td>\n",
       "    </tr>\n",
       "    <tr>\n",
       "      <th>3</th>\n",
       "      <td>14858548</td>\n",
       "      <td>hr5-016-01</td>\n",
       "      <td>normal</td>\n",
       "      <td>COMPLETED</td>\n",
       "      <td>cpu=32,mem=227200M,node=1</td>\n",
       "      <td>4</td>\n",
       "      <td>NaN</td>\n",
       "    </tr>\n",
       "    <tr>\n",
       "      <th>4</th>\n",
       "      <td>14858548.batch</td>\n",
       "      <td>batch</td>\n",
       "      <td>NaN</td>\n",
       "      <td>COMPLETED</td>\n",
       "      <td>cpu=32,mem=227200M,node=1</td>\n",
       "      <td>4</td>\n",
       "      <td>NaN</td>\n",
       "    </tr>\n",
       "    <tr>\n",
       "      <th>...</th>\n",
       "      <td>...</td>\n",
       "      <td>...</td>\n",
       "      <td>...</td>\n",
       "      <td>...</td>\n",
       "      <td>...</td>\n",
       "      <td>...</td>\n",
       "      <td>...</td>\n",
       "    </tr>\n",
       "    <tr>\n",
       "      <th>167</th>\n",
       "      <td>14920353.0</td>\n",
       "      <td>ramses3d</td>\n",
       "      <td>NaN</td>\n",
       "      <td>FAILED</td>\n",
       "      <td>cpu=1200,mem=7726620M,node=30</td>\n",
       "      <td>220871</td>\n",
       "      <td>NaN</td>\n",
       "    </tr>\n",
       "    <tr>\n",
       "      <th>168</th>\n",
       "      <td>14930321</td>\n",
       "      <td>LCDM</td>\n",
       "      <td>large_cpu</td>\n",
       "      <td>CANCELLED by 43801</td>\n",
       "      <td>billing=3024,cpu=4320,mem=7726620M,node=30</td>\n",
       "      <td>7657</td>\n",
       "      <td>NaN</td>\n",
       "    </tr>\n",
       "    <tr>\n",
       "      <th>169</th>\n",
       "      <td>14930321.batch</td>\n",
       "      <td>batch</td>\n",
       "      <td>NaN</td>\n",
       "      <td>CANCELLED</td>\n",
       "      <td>cpu=144,mem=257554M,node=1</td>\n",
       "      <td>7658</td>\n",
       "      <td>NaN</td>\n",
       "    </tr>\n",
       "    <tr>\n",
       "      <th>170</th>\n",
       "      <td>14930321.extern</td>\n",
       "      <td>extern</td>\n",
       "      <td>NaN</td>\n",
       "      <td>COMPLETED</td>\n",
       "      <td>billing=3024,cpu=4320,mem=7726620M,node=30</td>\n",
       "      <td>7657</td>\n",
       "      <td>NaN</td>\n",
       "    </tr>\n",
       "    <tr>\n",
       "      <th>171</th>\n",
       "      <td>14930321.0</td>\n",
       "      <td>ramses3d</td>\n",
       "      <td>NaN</td>\n",
       "      <td>FAILED</td>\n",
       "      <td>cpu=600,mem=7726620M,node=30</td>\n",
       "      <td>7662</td>\n",
       "      <td>NaN</td>\n",
       "    </tr>\n",
       "  </tbody>\n",
       "</table>\n",
       "<p>172 rows × 7 columns</p>\n",
       "</div>"
      ],
      "text/plain": [
       "               JobID      JobName  Partition               State  \\\n",
       "0           14775436  check_cores     normal           COMPLETED   \n",
       "1     14775436.batch        batch        NaN           COMPLETED   \n",
       "2    14775436.extern       extern        NaN           COMPLETED   \n",
       "3           14858548   hr5-016-01     normal           COMPLETED   \n",
       "4     14858548.batch        batch        NaN           COMPLETED   \n",
       "..               ...          ...        ...                 ...   \n",
       "167       14920353.0     ramses3d        NaN              FAILED   \n",
       "168         14930321         LCDM  large_cpu  CANCELLED by 43801   \n",
       "169   14930321.batch        batch        NaN           CANCELLED   \n",
       "170  14930321.extern       extern        NaN           COMPLETED   \n",
       "171       14930321.0     ramses3d        NaN              FAILED   \n",
       "\n",
       "                                      AllocTRES  ElapsedRaw  Unnamed: 6  \n",
       "0                       cpu=2,mem=14200M,node=1           2         NaN  \n",
       "1                       cpu=2,mem=14200M,node=1           2         NaN  \n",
       "2                       cpu=2,mem=14200M,node=1           2         NaN  \n",
       "3                     cpu=32,mem=227200M,node=1           4         NaN  \n",
       "4                     cpu=32,mem=227200M,node=1           4         NaN  \n",
       "..                                          ...         ...         ...  \n",
       "167               cpu=1200,mem=7726620M,node=30      220871         NaN  \n",
       "168  billing=3024,cpu=4320,mem=7726620M,node=30        7657         NaN  \n",
       "169                  cpu=144,mem=257554M,node=1        7658         NaN  \n",
       "170  billing=3024,cpu=4320,mem=7726620M,node=30        7657         NaN  \n",
       "171                cpu=600,mem=7726620M,node=30        7662         NaN  \n",
       "\n",
       "[172 rows x 7 columns]"
      ]
     },
     "execution_count": 3,
     "metadata": {},
     "output_type": "execute_result"
    }
   ],
   "source": [
    "# Display the dataset\n",
    "info"
   ]
  },
  {
   "cell_type": "markdown",
   "id": "faa4a82e",
   "metadata": {},
   "source": [
    "## Parse `AllocTRES` field\n",
    "\n",
    "Extract `cpu`, `mem`, and `node` information from the `AllocTRES` column and add them as new columns to the DataFrame."
   ]
  },
  {
   "cell_type": "code",
   "execution_count": 4,
   "id": "519af495",
   "metadata": {
    "ExecuteTime": {
     "end_time": "2024-12-02T05:32:20.900044Z",
     "start_time": "2024-12-02T05:32:20.896147Z"
    }
   },
   "outputs": [],
   "source": [
    "# Extract cpu, mem, and node from AllocTRES\n",
    "alloc_cols = info[\"AllocTRES\"].str.extract(r'cpu=(\\d+),mem=(\\d+M),node=(\\d+)')\n",
    "alloc_cols.columns = [\"cpu\", \"mem\", \"node\"]\n",
    "\n",
    "# Add the parsed data to the DataFrame\n",
    "info = pd.concat([info, alloc_cols], axis=1)"
   ]
  },
  {
   "cell_type": "code",
   "execution_count": 5,
   "id": "5bb33084",
   "metadata": {
    "ExecuteTime": {
     "end_time": "2024-12-02T05:32:21.251141Z",
     "start_time": "2024-12-02T05:32:21.240587Z"
    }
   },
   "outputs": [
    {
     "data": {
      "text/html": [
       "<div>\n",
       "<style scoped>\n",
       "    .dataframe tbody tr th:only-of-type {\n",
       "        vertical-align: middle;\n",
       "    }\n",
       "\n",
       "    .dataframe tbody tr th {\n",
       "        vertical-align: top;\n",
       "    }\n",
       "\n",
       "    .dataframe thead th {\n",
       "        text-align: right;\n",
       "    }\n",
       "</style>\n",
       "<table border=\"1\" class=\"dataframe\">\n",
       "  <thead>\n",
       "    <tr style=\"text-align: right;\">\n",
       "      <th></th>\n",
       "      <th>JobID</th>\n",
       "      <th>JobName</th>\n",
       "      <th>Partition</th>\n",
       "      <th>State</th>\n",
       "      <th>AllocTRES</th>\n",
       "      <th>ElapsedRaw</th>\n",
       "      <th>Unnamed: 6</th>\n",
       "      <th>cpu</th>\n",
       "      <th>mem</th>\n",
       "      <th>node</th>\n",
       "    </tr>\n",
       "  </thead>\n",
       "  <tbody>\n",
       "    <tr>\n",
       "      <th>0</th>\n",
       "      <td>14775436</td>\n",
       "      <td>check_cores</td>\n",
       "      <td>normal</td>\n",
       "      <td>COMPLETED</td>\n",
       "      <td>cpu=2,mem=14200M,node=1</td>\n",
       "      <td>2</td>\n",
       "      <td>NaN</td>\n",
       "      <td>2</td>\n",
       "      <td>14200M</td>\n",
       "      <td>1</td>\n",
       "    </tr>\n",
       "    <tr>\n",
       "      <th>1</th>\n",
       "      <td>14775436.batch</td>\n",
       "      <td>batch</td>\n",
       "      <td>NaN</td>\n",
       "      <td>COMPLETED</td>\n",
       "      <td>cpu=2,mem=14200M,node=1</td>\n",
       "      <td>2</td>\n",
       "      <td>NaN</td>\n",
       "      <td>2</td>\n",
       "      <td>14200M</td>\n",
       "      <td>1</td>\n",
       "    </tr>\n",
       "    <tr>\n",
       "      <th>2</th>\n",
       "      <td>14775436.extern</td>\n",
       "      <td>extern</td>\n",
       "      <td>NaN</td>\n",
       "      <td>COMPLETED</td>\n",
       "      <td>cpu=2,mem=14200M,node=1</td>\n",
       "      <td>2</td>\n",
       "      <td>NaN</td>\n",
       "      <td>2</td>\n",
       "      <td>14200M</td>\n",
       "      <td>1</td>\n",
       "    </tr>\n",
       "    <tr>\n",
       "      <th>3</th>\n",
       "      <td>14858548</td>\n",
       "      <td>hr5-016-01</td>\n",
       "      <td>normal</td>\n",
       "      <td>COMPLETED</td>\n",
       "      <td>cpu=32,mem=227200M,node=1</td>\n",
       "      <td>4</td>\n",
       "      <td>NaN</td>\n",
       "      <td>32</td>\n",
       "      <td>227200M</td>\n",
       "      <td>1</td>\n",
       "    </tr>\n",
       "    <tr>\n",
       "      <th>4</th>\n",
       "      <td>14858548.batch</td>\n",
       "      <td>batch</td>\n",
       "      <td>NaN</td>\n",
       "      <td>COMPLETED</td>\n",
       "      <td>cpu=32,mem=227200M,node=1</td>\n",
       "      <td>4</td>\n",
       "      <td>NaN</td>\n",
       "      <td>32</td>\n",
       "      <td>227200M</td>\n",
       "      <td>1</td>\n",
       "    </tr>\n",
       "    <tr>\n",
       "      <th>...</th>\n",
       "      <td>...</td>\n",
       "      <td>...</td>\n",
       "      <td>...</td>\n",
       "      <td>...</td>\n",
       "      <td>...</td>\n",
       "      <td>...</td>\n",
       "      <td>...</td>\n",
       "      <td>...</td>\n",
       "      <td>...</td>\n",
       "      <td>...</td>\n",
       "    </tr>\n",
       "    <tr>\n",
       "      <th>167</th>\n",
       "      <td>14920353.0</td>\n",
       "      <td>ramses3d</td>\n",
       "      <td>NaN</td>\n",
       "      <td>FAILED</td>\n",
       "      <td>cpu=1200,mem=7726620M,node=30</td>\n",
       "      <td>220871</td>\n",
       "      <td>NaN</td>\n",
       "      <td>1200</td>\n",
       "      <td>7726620M</td>\n",
       "      <td>30</td>\n",
       "    </tr>\n",
       "    <tr>\n",
       "      <th>168</th>\n",
       "      <td>14930321</td>\n",
       "      <td>LCDM</td>\n",
       "      <td>large_cpu</td>\n",
       "      <td>CANCELLED by 43801</td>\n",
       "      <td>billing=3024,cpu=4320,mem=7726620M,node=30</td>\n",
       "      <td>7657</td>\n",
       "      <td>NaN</td>\n",
       "      <td>4320</td>\n",
       "      <td>7726620M</td>\n",
       "      <td>30</td>\n",
       "    </tr>\n",
       "    <tr>\n",
       "      <th>169</th>\n",
       "      <td>14930321.batch</td>\n",
       "      <td>batch</td>\n",
       "      <td>NaN</td>\n",
       "      <td>CANCELLED</td>\n",
       "      <td>cpu=144,mem=257554M,node=1</td>\n",
       "      <td>7658</td>\n",
       "      <td>NaN</td>\n",
       "      <td>144</td>\n",
       "      <td>257554M</td>\n",
       "      <td>1</td>\n",
       "    </tr>\n",
       "    <tr>\n",
       "      <th>170</th>\n",
       "      <td>14930321.extern</td>\n",
       "      <td>extern</td>\n",
       "      <td>NaN</td>\n",
       "      <td>COMPLETED</td>\n",
       "      <td>billing=3024,cpu=4320,mem=7726620M,node=30</td>\n",
       "      <td>7657</td>\n",
       "      <td>NaN</td>\n",
       "      <td>4320</td>\n",
       "      <td>7726620M</td>\n",
       "      <td>30</td>\n",
       "    </tr>\n",
       "    <tr>\n",
       "      <th>171</th>\n",
       "      <td>14930321.0</td>\n",
       "      <td>ramses3d</td>\n",
       "      <td>NaN</td>\n",
       "      <td>FAILED</td>\n",
       "      <td>cpu=600,mem=7726620M,node=30</td>\n",
       "      <td>7662</td>\n",
       "      <td>NaN</td>\n",
       "      <td>600</td>\n",
       "      <td>7726620M</td>\n",
       "      <td>30</td>\n",
       "    </tr>\n",
       "  </tbody>\n",
       "</table>\n",
       "<p>172 rows × 10 columns</p>\n",
       "</div>"
      ],
      "text/plain": [
       "               JobID      JobName  Partition               State  \\\n",
       "0           14775436  check_cores     normal           COMPLETED   \n",
       "1     14775436.batch        batch        NaN           COMPLETED   \n",
       "2    14775436.extern       extern        NaN           COMPLETED   \n",
       "3           14858548   hr5-016-01     normal           COMPLETED   \n",
       "4     14858548.batch        batch        NaN           COMPLETED   \n",
       "..               ...          ...        ...                 ...   \n",
       "167       14920353.0     ramses3d        NaN              FAILED   \n",
       "168         14930321         LCDM  large_cpu  CANCELLED by 43801   \n",
       "169   14930321.batch        batch        NaN           CANCELLED   \n",
       "170  14930321.extern       extern        NaN           COMPLETED   \n",
       "171       14930321.0     ramses3d        NaN              FAILED   \n",
       "\n",
       "                                      AllocTRES  ElapsedRaw  Unnamed: 6   cpu  \\\n",
       "0                       cpu=2,mem=14200M,node=1           2         NaN     2   \n",
       "1                       cpu=2,mem=14200M,node=1           2         NaN     2   \n",
       "2                       cpu=2,mem=14200M,node=1           2         NaN     2   \n",
       "3                     cpu=32,mem=227200M,node=1           4         NaN    32   \n",
       "4                     cpu=32,mem=227200M,node=1           4         NaN    32   \n",
       "..                                          ...         ...         ...   ...   \n",
       "167               cpu=1200,mem=7726620M,node=30      220871         NaN  1200   \n",
       "168  billing=3024,cpu=4320,mem=7726620M,node=30        7657         NaN  4320   \n",
       "169                  cpu=144,mem=257554M,node=1        7658         NaN   144   \n",
       "170  billing=3024,cpu=4320,mem=7726620M,node=30        7657         NaN  4320   \n",
       "171                cpu=600,mem=7726620M,node=30        7662         NaN   600   \n",
       "\n",
       "          mem node  \n",
       "0      14200M    1  \n",
       "1      14200M    1  \n",
       "2      14200M    1  \n",
       "3     227200M    1  \n",
       "4     227200M    1  \n",
       "..        ...  ...  \n",
       "167  7726620M   30  \n",
       "168  7726620M   30  \n",
       "169   257554M    1  \n",
       "170  7726620M   30  \n",
       "171  7726620M   30  \n",
       "\n",
       "[172 rows x 10 columns]"
      ]
     },
     "execution_count": 5,
     "metadata": {},
     "output_type": "execute_result"
    }
   ],
   "source": [
    "info"
   ]
  },
  {
   "cell_type": "markdown",
   "id": "b38368c3",
   "metadata": {},
   "source": [
    "## Compute node hours"
   ]
  },
  {
   "cell_type": "code",
   "execution_count": 6,
   "id": "bae11c5d",
   "metadata": {
    "ExecuteTime": {
     "end_time": "2024-12-02T05:32:21.738513Z",
     "start_time": "2024-12-02T05:32:21.734453Z"
    }
   },
   "outputs": [],
   "source": [
    "# Convert necessary columns to proper data types\n",
    "info[\"ElapsedRaw\"] = info[\"ElapsedRaw\"].astype(float) # sec\n",
    "info[\"node\"] = info[\"node\"].astype(float)\n",
    "\n",
    "# Calculate node hours\n",
    "info[\"NodeHours\"] = (info[\"ElapsedRaw\"] * info[\"node\"]) / 3600 # hr"
   ]
  },
  {
   "cell_type": "code",
   "execution_count": 7,
   "id": "ddc376d8",
   "metadata": {
    "ExecuteTime": {
     "end_time": "2024-12-02T05:32:22.128699Z",
     "start_time": "2024-12-02T05:32:22.116759Z"
    }
   },
   "outputs": [
    {
     "data": {
      "text/html": [
       "<div>\n",
       "<style scoped>\n",
       "    .dataframe tbody tr th:only-of-type {\n",
       "        vertical-align: middle;\n",
       "    }\n",
       "\n",
       "    .dataframe tbody tr th {\n",
       "        vertical-align: top;\n",
       "    }\n",
       "\n",
       "    .dataframe thead th {\n",
       "        text-align: right;\n",
       "    }\n",
       "</style>\n",
       "<table border=\"1\" class=\"dataframe\">\n",
       "  <thead>\n",
       "    <tr style=\"text-align: right;\">\n",
       "      <th></th>\n",
       "      <th>JobID</th>\n",
       "      <th>JobName</th>\n",
       "      <th>Partition</th>\n",
       "      <th>State</th>\n",
       "      <th>AllocTRES</th>\n",
       "      <th>ElapsedRaw</th>\n",
       "      <th>Unnamed: 6</th>\n",
       "      <th>cpu</th>\n",
       "      <th>mem</th>\n",
       "      <th>node</th>\n",
       "      <th>NodeHours</th>\n",
       "    </tr>\n",
       "  </thead>\n",
       "  <tbody>\n",
       "    <tr>\n",
       "      <th>0</th>\n",
       "      <td>14775436</td>\n",
       "      <td>check_cores</td>\n",
       "      <td>normal</td>\n",
       "      <td>COMPLETED</td>\n",
       "      <td>cpu=2,mem=14200M,node=1</td>\n",
       "      <td>2.0</td>\n",
       "      <td>NaN</td>\n",
       "      <td>2</td>\n",
       "      <td>14200M</td>\n",
       "      <td>1.0</td>\n",
       "      <td>0.000556</td>\n",
       "    </tr>\n",
       "    <tr>\n",
       "      <th>1</th>\n",
       "      <td>14775436.batch</td>\n",
       "      <td>batch</td>\n",
       "      <td>NaN</td>\n",
       "      <td>COMPLETED</td>\n",
       "      <td>cpu=2,mem=14200M,node=1</td>\n",
       "      <td>2.0</td>\n",
       "      <td>NaN</td>\n",
       "      <td>2</td>\n",
       "      <td>14200M</td>\n",
       "      <td>1.0</td>\n",
       "      <td>0.000556</td>\n",
       "    </tr>\n",
       "    <tr>\n",
       "      <th>2</th>\n",
       "      <td>14775436.extern</td>\n",
       "      <td>extern</td>\n",
       "      <td>NaN</td>\n",
       "      <td>COMPLETED</td>\n",
       "      <td>cpu=2,mem=14200M,node=1</td>\n",
       "      <td>2.0</td>\n",
       "      <td>NaN</td>\n",
       "      <td>2</td>\n",
       "      <td>14200M</td>\n",
       "      <td>1.0</td>\n",
       "      <td>0.000556</td>\n",
       "    </tr>\n",
       "    <tr>\n",
       "      <th>3</th>\n",
       "      <td>14858548</td>\n",
       "      <td>hr5-016-01</td>\n",
       "      <td>normal</td>\n",
       "      <td>COMPLETED</td>\n",
       "      <td>cpu=32,mem=227200M,node=1</td>\n",
       "      <td>4.0</td>\n",
       "      <td>NaN</td>\n",
       "      <td>32</td>\n",
       "      <td>227200M</td>\n",
       "      <td>1.0</td>\n",
       "      <td>0.001111</td>\n",
       "    </tr>\n",
       "    <tr>\n",
       "      <th>4</th>\n",
       "      <td>14858548.batch</td>\n",
       "      <td>batch</td>\n",
       "      <td>NaN</td>\n",
       "      <td>COMPLETED</td>\n",
       "      <td>cpu=32,mem=227200M,node=1</td>\n",
       "      <td>4.0</td>\n",
       "      <td>NaN</td>\n",
       "      <td>32</td>\n",
       "      <td>227200M</td>\n",
       "      <td>1.0</td>\n",
       "      <td>0.001111</td>\n",
       "    </tr>\n",
       "    <tr>\n",
       "      <th>...</th>\n",
       "      <td>...</td>\n",
       "      <td>...</td>\n",
       "      <td>...</td>\n",
       "      <td>...</td>\n",
       "      <td>...</td>\n",
       "      <td>...</td>\n",
       "      <td>...</td>\n",
       "      <td>...</td>\n",
       "      <td>...</td>\n",
       "      <td>...</td>\n",
       "      <td>...</td>\n",
       "    </tr>\n",
       "    <tr>\n",
       "      <th>167</th>\n",
       "      <td>14920353.0</td>\n",
       "      <td>ramses3d</td>\n",
       "      <td>NaN</td>\n",
       "      <td>FAILED</td>\n",
       "      <td>cpu=1200,mem=7726620M,node=30</td>\n",
       "      <td>220871.0</td>\n",
       "      <td>NaN</td>\n",
       "      <td>1200</td>\n",
       "      <td>7726620M</td>\n",
       "      <td>30.0</td>\n",
       "      <td>1840.591667</td>\n",
       "    </tr>\n",
       "    <tr>\n",
       "      <th>168</th>\n",
       "      <td>14930321</td>\n",
       "      <td>LCDM</td>\n",
       "      <td>large_cpu</td>\n",
       "      <td>CANCELLED by 43801</td>\n",
       "      <td>billing=3024,cpu=4320,mem=7726620M,node=30</td>\n",
       "      <td>7657.0</td>\n",
       "      <td>NaN</td>\n",
       "      <td>4320</td>\n",
       "      <td>7726620M</td>\n",
       "      <td>30.0</td>\n",
       "      <td>63.808333</td>\n",
       "    </tr>\n",
       "    <tr>\n",
       "      <th>169</th>\n",
       "      <td>14930321.batch</td>\n",
       "      <td>batch</td>\n",
       "      <td>NaN</td>\n",
       "      <td>CANCELLED</td>\n",
       "      <td>cpu=144,mem=257554M,node=1</td>\n",
       "      <td>7658.0</td>\n",
       "      <td>NaN</td>\n",
       "      <td>144</td>\n",
       "      <td>257554M</td>\n",
       "      <td>1.0</td>\n",
       "      <td>2.127222</td>\n",
       "    </tr>\n",
       "    <tr>\n",
       "      <th>170</th>\n",
       "      <td>14930321.extern</td>\n",
       "      <td>extern</td>\n",
       "      <td>NaN</td>\n",
       "      <td>COMPLETED</td>\n",
       "      <td>billing=3024,cpu=4320,mem=7726620M,node=30</td>\n",
       "      <td>7657.0</td>\n",
       "      <td>NaN</td>\n",
       "      <td>4320</td>\n",
       "      <td>7726620M</td>\n",
       "      <td>30.0</td>\n",
       "      <td>63.808333</td>\n",
       "    </tr>\n",
       "    <tr>\n",
       "      <th>171</th>\n",
       "      <td>14930321.0</td>\n",
       "      <td>ramses3d</td>\n",
       "      <td>NaN</td>\n",
       "      <td>FAILED</td>\n",
       "      <td>cpu=600,mem=7726620M,node=30</td>\n",
       "      <td>7662.0</td>\n",
       "      <td>NaN</td>\n",
       "      <td>600</td>\n",
       "      <td>7726620M</td>\n",
       "      <td>30.0</td>\n",
       "      <td>63.850000</td>\n",
       "    </tr>\n",
       "  </tbody>\n",
       "</table>\n",
       "<p>172 rows × 11 columns</p>\n",
       "</div>"
      ],
      "text/plain": [
       "               JobID      JobName  Partition               State  \\\n",
       "0           14775436  check_cores     normal           COMPLETED   \n",
       "1     14775436.batch        batch        NaN           COMPLETED   \n",
       "2    14775436.extern       extern        NaN           COMPLETED   \n",
       "3           14858548   hr5-016-01     normal           COMPLETED   \n",
       "4     14858548.batch        batch        NaN           COMPLETED   \n",
       "..               ...          ...        ...                 ...   \n",
       "167       14920353.0     ramses3d        NaN              FAILED   \n",
       "168         14930321         LCDM  large_cpu  CANCELLED by 43801   \n",
       "169   14930321.batch        batch        NaN           CANCELLED   \n",
       "170  14930321.extern       extern        NaN           COMPLETED   \n",
       "171       14930321.0     ramses3d        NaN              FAILED   \n",
       "\n",
       "                                      AllocTRES  ElapsedRaw  Unnamed: 6   cpu  \\\n",
       "0                       cpu=2,mem=14200M,node=1         2.0         NaN     2   \n",
       "1                       cpu=2,mem=14200M,node=1         2.0         NaN     2   \n",
       "2                       cpu=2,mem=14200M,node=1         2.0         NaN     2   \n",
       "3                     cpu=32,mem=227200M,node=1         4.0         NaN    32   \n",
       "4                     cpu=32,mem=227200M,node=1         4.0         NaN    32   \n",
       "..                                          ...         ...         ...   ...   \n",
       "167               cpu=1200,mem=7726620M,node=30    220871.0         NaN  1200   \n",
       "168  billing=3024,cpu=4320,mem=7726620M,node=30      7657.0         NaN  4320   \n",
       "169                  cpu=144,mem=257554M,node=1      7658.0         NaN   144   \n",
       "170  billing=3024,cpu=4320,mem=7726620M,node=30      7657.0         NaN  4320   \n",
       "171                cpu=600,mem=7726620M,node=30      7662.0         NaN   600   \n",
       "\n",
       "          mem  node    NodeHours  \n",
       "0      14200M   1.0     0.000556  \n",
       "1      14200M   1.0     0.000556  \n",
       "2      14200M   1.0     0.000556  \n",
       "3     227200M   1.0     0.001111  \n",
       "4     227200M   1.0     0.001111  \n",
       "..        ...   ...          ...  \n",
       "167  7726620M  30.0  1840.591667  \n",
       "168  7726620M  30.0    63.808333  \n",
       "169   257554M   1.0     2.127222  \n",
       "170  7726620M  30.0    63.808333  \n",
       "171  7726620M  30.0    63.850000  \n",
       "\n",
       "[172 rows x 11 columns]"
      ]
     },
     "execution_count": 7,
     "metadata": {},
     "output_type": "execute_result"
    }
   ],
   "source": [
    "info"
   ]
  },
  {
   "cell_type": "code",
   "execution_count": 8,
   "id": "ad4a0562",
   "metadata": {
    "ExecuteTime": {
     "end_time": "2024-12-02T05:32:22.393931Z",
     "start_time": "2024-12-02T05:32:22.391126Z"
    }
   },
   "outputs": [
    {
     "name": "stdout",
     "output_type": "stream",
     "text": [
      "Total node hours:   63000.00 h\n",
      "Used node hours:     9784.12 h (15.53%)\n",
      "Left node hours:    53215.88 h (84.47%)\n"
     ]
    }
   ],
   "source": [
    "node_hours_total = 63000 # total node hours available on Olaf\n",
    "node_hours_used = info[\"NodeHours\"].sum()\n",
    "node_hours_left = node_hours_total - node_hours_used\n",
    "\n",
    "print(f\"Total node hours: {node_hours_total:10.2f} h\")\n",
    "print(f\"Used node hours:  {node_hours_used:10.2f} h ({node_hours_used/node_hours_total*100:.2f}%)\")\n",
    "print(f\"Left node hours:  {node_hours_left:10.2f} h ({node_hours_left/node_hours_total*100:.2f}%)\")"
   ]
  },
  {
   "cell_type": "markdown",
   "id": "13f0b630",
   "metadata": {},
   "source": [
    "## Estimate remaining days for specific node usage"
   ]
  },
  {
   "cell_type": "code",
   "execution_count": 9,
   "id": "c69df92f",
   "metadata": {
    "ExecuteTime": {
     "end_time": "2024-12-02T05:32:23.044496Z",
     "start_time": "2024-12-02T05:32:23.041694Z"
    }
   },
   "outputs": [
    {
     "name": "stdout",
     "output_type": "stream",
     "text": [
      "Running days with 90 nodes: 24.64 days\n"
     ]
    }
   ],
   "source": [
    "nodes = 90\n",
    "days_left = node_hours_left / 24 / nodes\n",
    "print(f\"Running days with {nodes} nodes: {days_left:.2f} days\")"
   ]
  },
  {
   "cell_type": "markdown",
   "id": "4a31086f",
   "metadata": {},
   "source": [
    "## Estimate required nodes for a specific remaining days"
   ]
  },
  {
   "cell_type": "code",
   "execution_count": 10,
   "id": "9fa298d6",
   "metadata": {
    "ExecuteTime": {
     "end_time": "2024-12-02T05:32:23.739120Z",
     "start_time": "2024-12-02T05:32:23.736753Z"
    }
   },
   "outputs": [
    {
     "name": "stdout",
     "output_type": "stream",
     "text": [
      "Required nodes for 30 days: 73.91 nodes\n"
     ]
    }
   ],
   "source": [
    "days_left = 30\n",
    "nodes = node_hours_left / 24 / days_left\n",
    "print(f\"Required nodes for {days_left} days: {nodes:.2f} nodes\")"
   ]
  },
  {
   "cell_type": "markdown",
   "id": "6d66cf94",
   "metadata": {},
   "source": [
    "# Estimate the number of maximum runs"
   ]
  },
  {
   "cell_type": "code",
   "execution_count": 16,
   "id": "ec5b56cd",
   "metadata": {
    "ExecuteTime": {
     "end_time": "2024-12-02T05:35:47.913990Z",
     "start_time": "2024-12-02T05:35:47.911860Z"
    }
   },
   "outputs": [],
   "source": [
    "# For one simulation,\n",
    "nodes = 30\n",
    "days_run = 10 # days (~ 6days for ideal case)\n",
    "node_hours_run = nodes * days_run * 24"
   ]
  },
  {
   "cell_type": "code",
   "execution_count": 17,
   "id": "1ea5a15d",
   "metadata": {
    "ExecuteTime": {
     "end_time": "2024-12-02T05:35:48.108999Z",
     "start_time": "2024-12-02T05:35:48.106178Z"
    }
   },
   "outputs": [
    {
     "data": {
      "text/plain": [
       "7.3910941358024695"
      ]
     },
     "execution_count": 17,
     "metadata": {},
     "output_type": "execute_result"
    }
   ],
   "source": [
    "node_hours_left / node_hours_run"
   ]
  },
  {
   "cell_type": "code",
   "execution_count": null,
   "id": "092ebfbc",
   "metadata": {},
   "outputs": [],
   "source": []
  }
 ],
 "metadata": {
  "kernelspec": {
   "display_name": "Python 3 (ipykernel)",
   "language": "python",
   "name": "python3"
  },
  "language_info": {
   "codemirror_mode": {
    "name": "ipython",
    "version": 3
   },
   "file_extension": ".py",
   "mimetype": "text/x-python",
   "name": "python",
   "nbconvert_exporter": "python",
   "pygments_lexer": "ipython3",
   "version": "3.8.8"
  },
  "varInspector": {
   "cols": {
    "lenName": 16,
    "lenType": 16,
    "lenVar": 40
   },
   "kernels_config": {
    "python": {
     "delete_cmd_postfix": "",
     "delete_cmd_prefix": "del ",
     "library": "var_list.py",
     "varRefreshCmd": "print(var_dic_list())"
    },
    "r": {
     "delete_cmd_postfix": ") ",
     "delete_cmd_prefix": "rm(",
     "library": "var_list.r",
     "varRefreshCmd": "cat(var_dic_list()) "
    }
   },
   "types_to_exclude": [
    "module",
    "function",
    "builtin_function_or_method",
    "instance",
    "_Feature"
   ],
   "window_display": false
  }
 },
 "nbformat": 4,
 "nbformat_minor": 5
}
